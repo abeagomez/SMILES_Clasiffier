{
 "cells": [
  {
   "cell_type": "markdown",
   "metadata": {},
   "source": [
    "### The Data is here!\n",
    "\n",
    "Ups! Those are not images... a shame, because I already know about image processing. Well, let's take a look!\n",
    "\n",
    "\n",
    "| smiles                      | target1 | target2| target3 | ... | taget12 |\n",
    "|-----------------------------|---------|--------|---------|-----|---------|\n",
    "|CCOc1ccc2nc(S(N)(=O)=O)sc2c1 |    0    |    0   |    1    | ... |    0    |\n",
    "\n",
    "Seems like we have the [SMILES](https://en.wikipedia.org/wiki/Simplified_molecular-input_line-entry_system) representation of some molecules and values for certain targets. The targets values are binary: 0 or 1.\n",
    "\n",
    "Let's see if we can predict the value of **target1** just using the SMILES we have. Doesn't sound like a bad plan, but we don't know much about molecules, but well, text processing is a huge field in machine learning and a SMILES is a string representation of a molecule.\n",
    "\n",
    "So, when we are learning \"sentences\" (like, for example, in sentiment analysis), we don't care only about the words as separate units, but also about the context. The meaning of a word might change depending on the previous or the next word or words. It sounds like we want something similar with our SMILES, we don't care only about an atom, or a character, in the SMILE, we care about the context. One of the techniques for predicting categories based on analyzing words and it context is using Recurrent Neural Netwoks (For a little overview about RNN and how they work, I read this [article](https://karpathy.github.io/2015/05/21/rnn-effectiveness/?fbclid=IwAR3hdJeXQV9_I1fHGlFNuB_pK5pcQX8lc-T0NPOMjt87gDITH3Mw-fJXSow) from Andrej Karpathy, who is the director of artificial intelligence and Autopilot Vision at Tesla and he specializes in deep learning and image recognition and understanding).\n",
    "\n",
    "First things first. We have to read the data!\n"
   ]
  },
  {
   "cell_type": "code",
   "execution_count": 1,
   "metadata": {},
   "outputs": [],
   "source": [
    "import csv\n",
    "\n",
    "def get_data():\n",
    "    targets_keys = [\"target1\", \"target2\", \"target3\", \"target4\", \"target5\",\n",
    "                    \"target6\", \"target7\", \"target8\", \"target9\", \"target10\",\n",
    "                    \"target11\", \"target12\"]\n",
    "    smiles_dict = {}\n",
    "    with open(\"data.csv\") as csvfile:\n",
    "        reader = csv.DictReader(csvfile)\n",
    "        for row in reader:\n",
    "            row_targets = []\n",
    "            for key in targets_keys:\n",
    "                row_targets.append(row[key])\n",
    "            smiles_dict[\"smiles\"] = row_targets\n",
    "    return smiles_dict"
   ]
  },
  {
   "cell_type": "markdown",
   "metadata": {},
   "source": [
    "Let's take a look at the content of our data:"
   ]
  },
  {
   "cell_type": "code",
   "execution_count": 2,
   "metadata": {},
   "outputs": [
    {
     "name": "stdout",
     "output_type": "stream",
     "text": [
      "smiles ['0', '0', '', '0', '0', '0', '0', '0', '0', '0', '1', '0']\n"
     ]
    }
   ],
   "source": [
    "import random as rd\n",
    "import numpy as np\n",
    "np.random.seed(7)\n",
    "\n",
    "data = get_data()\n",
    "smiles, targets = rd.choice(list(data.items()))\n",
    "print(smiles, targets)"
   ]
  },
  {
   "cell_type": "markdown",
   "metadata": {},
   "source": [
    "### 1st Problem: Missing Data\n",
    "\n",
    "Well well well... tha value for the 3rd target is empty. That is bad news, it means that we have missing data in our dataset. Let's find out how much data we are missing for each target."
   ]
  },
  {
   "cell_type": "code",
   "execution_count": 3,
   "metadata": {},
   "outputs": [],
   "source": [
    "def get_targets():\n",
    "    targets_keys = [\"target1\", \"target2\", \"target3\", \"target4\", \"target5\",\n",
    "                    \"target6\", \"target7\", \"target8\", \"target9\", \"target10\",\n",
    "                    \"target11\", \"target12\"]\n",
    "    targets = []\n",
    "    with open(\"data.csv\") as csvfile:\n",
    "        reader = csv.DictReader(csvfile)\n",
    "        for row in reader:\n",
    "            row_targets = []\n",
    "            for key in targets_keys:\n",
    "                row_targets.append(row[key])\n",
    "            targets.append(row_targets)\n",
    "    n_targets = []\n",
    "    for target in targets:\n",
    "        n_targets.append([float(i) if i != \"\" else None for i in target])\n",
    "    return n_targets"
   ]
  },
  {
   "cell_type": "code",
   "execution_count": 4,
   "metadata": {},
   "outputs": [
    {
     "name": "stdout",
     "output_type": "stream",
     "text": [
      "[ 575. 1112. 1323. 2074. 1698.  902. 1431. 2079.  782. 1420. 2094. 1105.]\n"
     ]
    }
   ],
   "source": [
    "targets = get_targets()\n",
    "counter = np.zeros(12)\n",
    "for target in targets:\n",
    "    for i in range(len(target)):\n",
    "        if target[i] is None:\n",
    "            counter[i] += 1\n",
    "print(counter)"
   ]
  },
  {
   "cell_type": "markdown",
   "metadata": {},
   "source": [
    "Wow! for some columns we are missing more than 2000 values! That's a lot of data!\n",
    "\n",
    "Worry don't yet. We can face this problem in several ways:\n",
    "- We could remove the rows where we have empty fields\n",
    "- We could use statistics measures to fill the empty spaces (mode, mean, median)\n",
    "- We could try to \"predict\" the missing values\n",
    "\n",
    "We are not trying the first approach, as we already have only 8k of data, we decided not to follow any technique implying to decrease the size of the data-set.\n",
    "\n",
    "Even when we think the 3rd option is the best one, for now, we are gonna go with the second one, in order to save time. If at the end we have any time left, we will try the 3rd approach.\n",
    "\n",
    "The first thing we are gonna do is to check how many 0s and 1s we have for each target:"
   ]
  },
  {
   "cell_type": "code",
   "execution_count": 5,
   "metadata": {
    "scrolled": true
   },
   "outputs": [
    {
     "name": "stdout",
     "output_type": "stream",
     "text": [
      "Number of 1s per target:\n",
      "[310. 238. 785. 307. 798. 356. 189. 961. 267. 379. 936. 431.]\n",
      "\n",
      "Number of 0s per target:\n",
      "[7129. 6664. 5906. 5633. 5518. 6756. 6394. 4974. 6965. 6215. 4984. 6478.]\n"
     ]
    }
   ],
   "source": [
    "ones_counter = np.zeros(12)\n",
    "zeros_counter = np.zeros(12)\n",
    "for target in targets:\n",
    "    for i in range(len(target)):\n",
    "        if target[i] is not None:\n",
    "            if target[i] == 1:\n",
    "                ones_counter[i] += 1\n",
    "            else:\n",
    "                zeros_counter[i] += 1\n",
    "print(\"Number of 1s per target:\")\n",
    "print(ones_counter)\n",
    "print(\"\")\n",
    "print(\"Number of 0s per target:\")\n",
    "print(zeros_counter)"
   ]
  },
  {
   "cell_type": "markdown",
   "metadata": {},
   "source": [
    "From the result above is easy to notice that, for this data-set, the mean is below 0.5 and the mode and the median are both 0, for all the targets. So, following our second criteria, we are gonna fill all the missing values with 0s."
   ]
  },
  {
   "cell_type": "code",
   "execution_count": 8,
   "metadata": {},
   "outputs": [],
   "source": [
    "def fill_targets():\n",
    "    \"\"\"\n",
    "    This function fills all the missing values in the targets with 0s\n",
    "    \"\"\"\n",
    "    targets = get_targets()\n",
    "    for target in targets:\n",
    "        for i in range(len(target)):\n",
    "            if target[i] is None:\n",
    "                target[i] = 0.0\n",
    "    return targets"
   ]
  },
  {
   "cell_type": "markdown",
   "metadata": {},
   "source": [
    "### 2nd problem: SMILES representation\n",
    "\n",
    "Now we can do our fisrt attempt of using a RNN for learning to predict the targets. In order to do that, we need to transform our data into numerical vectors.\n",
    "\n",
    "However, there is something we must consider first: could it happen that two different SMILES represent the same molecule? After a little bit of search, we found out that, in fact, is a very possible thing. A simple way to target this problem is to use any SMILES toolkit for python to transform our SMILES into their \"canonical form\". SMILES doesn't have a canonical form per se, but every toolkit for managing SMILES have it's own canonical representation, which is all what we need.\n",
    "\n",
    "To target this problem, we used the **rdkit** library. The **rdkit** library needs to be installed using conda and it's not included into our current virtualenv, so the code to generate the canonical version of the SMILES is posted here just as reference, but it's included into the project and the file \"canonized_smiles.txt\" represents it's output:\n",
    "\n",
    "```python\n",
    "from rdkit import Chem\n",
    "import csv\n",
    "import numpy as np\n",
    "\n",
    "\"\"\"\n",
    "This script reads the data from the data.csv file and uses rdkit\n",
    "to canonize all the smiles.\n",
    "Also, creates a list with 12 elements for each row with the values of\n",
    "the targets and, for the empty target values, it creates a new target array\n",
    "with all the possible values.\n",
    "Finally, it saves the list with all the canonized smiles, the\n",
    "list with all the lists of targets and an augmentd list of canonized smiles\n",
    "into .npy files.\n",
    "\"\"\"\n",
    "def get_smiles_and_targets():\n",
    "    \"\"\"\n",
    "    Reads data from the data.csv file and returns two arrays of equal lenght\n",
    "    Output:\n",
    "            smiles: the rdkit representation of every smiles in the original\n",
    "                    data\n",
    "            targets: an array of arrays with the values for every one of the\n",
    "                    12 targets\n",
    "    \"\"\"\n",
    "    targets_keys = [\"target1\", \"target2\", \"target3\", \"target4\", \"target5\",\n",
    "                    \"target6\", \"target7\", \"target8\", \"target9\", \"target10\",\n",
    "                    \"target11\", \"target12\"]\n",
    "    smiles = []\n",
    "    targets = []\n",
    "    with open(\"data.csv\") as csvfile:\n",
    "        reader = csv.DictReader(csvfile)\n",
    "        for row in reader:\n",
    "            smiles.append(Chem.MolToSmiles(Chem.MolFromSmiles(row[\"smiles\"])))\n",
    "            row_targets = []\n",
    "            for key in targets_keys:\n",
    "                row_targets.append(row[key])\n",
    "            targets.append(row_targets)\n",
    "    return smiles, targets\n",
    "\n",
    "def save_smiles():\n",
    "    \"\"\"\n",
    "    Saves the smile representation from rdkit into a .txt file\n",
    "    \"\"\"\n",
    "    smiles, _ = get_smiles_and_targets()\n",
    "    with open(\"canonized_smiles.txt\", 'w') as f:\n",
    "        for i in smiles:\n",
    "            f.write(i + '\\n')\n",
    "\n",
    "save_smiles()\n",
    "``` "
   ]
  },
  {
   "cell_type": "markdown",
   "metadata": {},
   "source": [
    "Now, we can be sure that we will not \"learn\" as two different cases, two different representations of the same molecule. \n",
    "\n",
    "Let's just do one more step: to decide how to map the data. The simplest way to map a SMILES representation into an integers vector, is to map every character to an specific integer. Obviously, any representation that allow us to keep more infomation about the original structure of the data, would be more helpfull than this. Different approaches can be used to improve the data representation, but, as a grammar definition is followed to represent moleccules as SMILES, we choose to transform the SMILES representation into tokens of that grammar.\n",
    "\n",
    "The file script **smiles_lexer.py** contains the code to represent the SMILES's grammar and to tokenize a specific SMILES. We used the python **ply** library for defining the grammar."
   ]
  },
  {
   "cell_type": "code",
   "execution_count": 15,
   "metadata": {},
   "outputs": [],
   "source": [
    "from smiles_lexer import tokenize_smiles\n",
    "\n",
    "def get_tokens_dict():\n",
    "    st_dict = {}\n",
    "    with open(\"canonized_smiles.txt\", 'r') as f:\n",
    "        smiles = [line.rstrip('\\n') for line in f]\n",
    "    index = 1\n",
    "    for smile in smiles:\n",
    "        tokenized_smile = list(tokenize_smiles(smile))\n",
    "        for token in tokenized_smile:\n",
    "            if not token in st_dict:\n",
    "                st_dict[token] = index\n",
    "                index += 1\n",
    "    return st_dict\n",
    "\n",
    "def get_smiles_as_vectors():\n",
    "    with open(\"canonized_smiles.txt\", 'r') as f:\n",
    "        smiles = [line.rstrip('\\n') for line in f]\n",
    "    tokens_dict = get_tokens_dict()\n",
    "    r = []\n",
    "    for smile in smiles:\n",
    "        vector = []\n",
    "        tokens = list(tokenize_smiles(smile))\n",
    "        for token in tokens:\n",
    "            vector.append(tokens_dict[token])\n",
    "        r.append(vector)\n",
    "    return r"
   ]
  },
  {
   "cell_type": "markdown",
   "metadata": {},
   "source": [
    "Now, we have our data organized enough as to be able to do our fisrt learning attemp. Let's try to teach a RNN model to predict given a cetain SMILES, it result for **target1**."
   ]
  },
  {
   "cell_type": "code",
   "execution_count": 37,
   "metadata": {
    "scrolled": true
   },
   "outputs": [
    {
     "name": "stdout",
     "output_type": "stream",
     "text": [
      "Train\n",
      "Build model\n"
     ]
    },
    {
     "name": "stderr",
     "output_type": "stream",
     "text": [
      "/home/amy/Documents/reid_project/env/lib/python3.6/site-packages/ipykernel_launcher.py:25: UserWarning: The `input_dim` and `input_length` arguments in recurrent layers are deprecated. Use `input_shape` instead.\n",
      "/home/amy/Documents/reid_project/env/lib/python3.6/site-packages/ipykernel_launcher.py:25: UserWarning: Update your `LSTM` call to the Keras 2 API: `LSTM(64, dropout=0.2, recurrent_dropout=0.2, input_shape=(None, 1))`\n"
     ]
    },
    {
     "name": "stdout",
     "output_type": "stream",
     "text": [
      "Train on 6411 samples, validate on 1603 samples\n",
      "Epoch 1/10\n",
      "6411/6411 [==============================] - 32s 5ms/step - loss: 0.1823 - acc: 0.9621 - val_loss: 0.1818 - val_acc: 0.9563\n",
      "Epoch 2/10\n",
      "6411/6411 [==============================] - 24s 4ms/step - loss: 0.1555 - acc: 0.9626 - val_loss: 0.1707 - val_acc: 0.9563\n",
      "Epoch 3/10\n",
      "6411/6411 [==============================] - 35s 5ms/step - loss: 0.1517 - acc: 0.9626 - val_loss: 0.1733 - val_acc: 0.9563\n",
      "Epoch 4/10\n",
      "6411/6411 [==============================] - 30s 5ms/step - loss: 0.1483 - acc: 0.9626 - val_loss: 0.1601 - val_acc: 0.9563\n",
      "Epoch 5/10\n",
      "6411/6411 [==============================] - 27s 4ms/step - loss: 0.1451 - acc: 0.9626 - val_loss: 0.1660 - val_acc: 0.9563\n",
      "Epoch 6/10\n",
      "6411/6411 [==============================] - 29s 5ms/step - loss: 0.1460 - acc: 0.9626 - val_loss: 0.1700 - val_acc: 0.9563\n",
      "Epoch 7/10\n",
      "6411/6411 [==============================] - 28s 4ms/step - loss: 0.1436 - acc: 0.9626 - val_loss: 0.1781 - val_acc: 0.9563\n",
      "Epoch 8/10\n",
      "6411/6411 [==============================] - 26s 4ms/step - loss: 0.1443 - acc: 0.9626 - val_loss: 0.1577 - val_acc: 0.9563\n",
      "Epoch 9/10\n",
      "6411/6411 [==============================] - 25s 4ms/step - loss: 0.1404 - acc: 0.9626 - val_loss: 0.1688 - val_acc: 0.9563\n",
      "Epoch 10/10\n",
      "6411/6411 [==============================] - 26s 4ms/step - loss: 0.1421 - acc: 0.9626 - val_loss: 0.1682 - val_acc: 0.9563\n",
      "Accuracy: 95.63%\n"
     ]
    },
    {
     "data": {
      "image/png": "[encoded data removed]",
      "text/plain": [
       "<Figure size 432x288 with 1 Axes>"
      ]
     },
     "metadata": {
      "needs_background": "light"
     },
     "output_type": "display_data"
    },
    {
     "data": {
      "image/png": "[encoded data removed]",
      "text/plain": [
       "<Figure size 432x288 with 1 Axes>"
      ]
     },
     "metadata": {
      "needs_background": "light"
     },
     "output_type": "display_data"
    }
   ],
   "source": [
    "import matplotlib.pyplot as plt\n",
    "import keras\n",
    "from keras.models import Sequential\n",
    "from keras.layers import Dense\n",
    "from keras.layers import LSTM\n",
    "from keras.preprocessing import sequence\n",
    "from keras.utils import to_categorical\n",
    "np.random.seed(7)\n",
    "\n",
    "def training_data(x_train, y):\n",
    "    max_len = len(max(x_train, key=len))\n",
    "    x_train = sequence.pad_sequences(x_train, maxlen=max_len)\n",
    "    x = [[[float(i)] for i in x] for x in x_train]\n",
    "    x = np.array(x)\n",
    "    x = x.reshape(x.shape[0], max_len, 1)\n",
    "    y = np.array(y)\n",
    "    y = to_categorical(y, 2)\n",
    "    spl = (len(x_train)*80)//100\n",
    "    x_train, x_test = np.array(x[0:spl]), np.array(x[spl:])\n",
    "    y_train, y_test = np.array(y[0:spl]), np.array(y[spl:])\n",
    "    return x_train, x_test, y_train, y_test\n",
    "\n",
    "def build_model():\n",
    "    print(\"Build model\")\n",
    "    model = Sequential()\n",
    "    model.add(LSTM(64, dropout=0.2, recurrent_dropout=0.2, input_dim=1))\n",
    "    model.add(Dense(2, activation=\"sigmoid\"))\n",
    "\n",
    "    model.compile(loss=\"categorical_crossentropy\",\n",
    "                  optimizer=\"adam\",\n",
    "                  metrics=[\"accuracy\"])\n",
    "    return model\n",
    "\n",
    "def show_metrics(history):\n",
    "    # summarize history for accuracy\n",
    "    plt.plot(history.history['acc'])\n",
    "    plt.plot(history.history['val_acc'])\n",
    "    plt.title('model accuracy')\n",
    "    plt.ylabel('accuracy')\n",
    "    plt.xlabel('epoch')\n",
    "    plt.legend(['train', 'test'], loc='upper left')\n",
    "    plt.show()\n",
    "\n",
    "    # summarize history for loss\n",
    "    plt.plot(history.history['loss'])\n",
    "    plt.plot(history.history['val_loss'])\n",
    "    plt.title('model loss')\n",
    "    plt.ylabel('loss')\n",
    "    plt.xlabel('epoch')\n",
    "    plt.legend(['train', 'test'], loc='upper left')\n",
    "    plt.show()\n",
    "\n",
    "smiles = get_smiles_as_vectors()\n",
    "target_index = 0\n",
    "target = [target[target_index] for target in fill_targets()]\n",
    "x, y = smiles, target\n",
    "\n",
    "print(\"Train\")\n",
    "x_train, x_test, y_train, y_test = training_data(x, y)\n",
    "model = build_model()\n",
    "history= model.fit(x_train, y_train,\n",
    "                epochs=10,\n",
    "                validation_data=(x_test, y_test),\n",
    "                verbose=1)\n",
    "\n",
    "scores = model.evaluate(x_test, y_test, verbose=0)\n",
    "print(\"Accuracy: %.2f%%\" % (scores[1]*100))\n",
    "\n",
    "show_metrics(history)\n"
   ]
  },
  {
   "cell_type": "markdown",
   "metadata": {},
   "source": [
    "As you can see above, the accuracy obtained for the model is pretty high, but is not changing during training and the learning curves are not looking good. Let's check what is really going on. We can start by computing the variables needed to find out the precision and recall values:"
   ]
  },
  {
   "cell_type": "code",
   "execution_count": 28,
   "metadata": {},
   "outputs": [
    {
     "name": "stdout",
     "output_type": "stream",
     "text": [
      "1603/1603 [==============================] - 1s 931us/step\n",
      "\n",
      "True Positives: 0\n",
      "True Negatives: 1533\n",
      "False Positives: 0\n",
      "False Negatives: 70\n"
     ]
    }
   ],
   "source": [
    "def get_target_values(categories):\n",
    "    values = []\n",
    "    for pair in categories:\n",
    "        if pair[0] > 0.5:\n",
    "            values.append(0.0)\n",
    "        else:\n",
    "            values.append(1.0)\n",
    "    return values\n",
    "\n",
    "def evaluation_variables(predicted, expected):\n",
    "    \"\"\"\n",
    "    :returns a tuple: true_positives, true_negatives, false_positives, false_negatives\n",
    "    \"\"\"\n",
    "    t_p, t_n, f_p, f_n = 0, 0, 0, 0\n",
    "    for i in range(len(predicted)):\n",
    "        if predicted[i] == 1 and expected[i] == 1:\n",
    "            t_p += 1\n",
    "        elif predicted[i] == 1 and expected[i] != 1:\n",
    "            f_p += 1\n",
    "        elif predicted[i] == 0 and expected[i] == 0:\n",
    "            t_n += 1\n",
    "        else:\n",
    "            f_n += 1\n",
    "    return t_p, t_n, f_p, f_n\n",
    "\n",
    "\n",
    "predicted = get_target_values(model.predict(x_test, verbose=1))\n",
    "expected = get_target_values(y_test)\n",
    "\n",
    "t_p, t_n, f_p, f_n = evaluation_variables(predicted, expected)\n",
    "\n",
    "print(\"\")\n",
    "print(\"True Positives: %i\" %t_p)\n",
    "print(\"True Negatives: %i\" %t_n)\n",
    "print(\"False Positives: %i\" %f_p)\n",
    "print(\"False Negatives: %i\" %f_n)\n",
    "\n"
   ]
  },
  {
   "cell_type": "markdown",
   "metadata": {},
   "source": [
    "### 3rd Problem: Balancing Data\n",
    "\n",
    "The explanation here is pretty obvious: our classifier learned to classify any element as negative. There is not a single output for the evaluation set with a positive value.\n",
    "\n",
    "To explore why this happened, let's look into the percent that positives values represent for every target:"
   ]
  },
  {
   "cell_type": "code",
   "execution_count": 38,
   "metadata": {},
   "outputs": [
    {
     "name": "stdout",
     "output_type": "stream",
     "text": [
      "[ 4.16722678  3.44827586 11.73217755  5.16835017 12.63457885  5.0056243\n",
      "  2.87103144 16.19208088  3.69192478  5.74764938 15.81081081  6.23823998]\n"
     ]
    }
   ],
   "source": [
    "def positives_proportion():\n",
    "    targets = get_targets()\n",
    "    ones_counter = np.zeros(12)\n",
    "    zeros_counter = np.zeros(12)\n",
    "    for target in targets:\n",
    "        for i in range(len(target)):\n",
    "            if target[i] is not None:\n",
    "                if target[i] == 1:\n",
    "                    ones_counter[i] += 1\n",
    "                else:\n",
    "                    zeros_counter[i] += 1\n",
    "    return ones_counter * 100 / (ones_counter + zeros_counter)\n",
    "\n",
    "print(positives_proportion())"
   ]
  },
  {
   "cell_type": "markdown",
   "metadata": {},
   "source": [
    "As you can see above, the data is very imbalanced. For **target1**, the number of positives cases represent only a 4.16% of the total of cases. The biggest proportion of positive cases is for **target8**, with a 16.19%.\n",
    "\n",
    "There's, again, different ways to target this problem. A common way is undersampling your data, if your data-set is too large, or oversampling your data, if the data-set isn't that large. There's another powerful technique, wich is to generate synthetic samples. SMOTE or the Synthetic Minority Over-sampling Technique, is one of the must popular algorithms to do that. [imbalance-learn](https://github.com/scikit-learn-contrib/imbalanced-learn) is a python library for balancing data-sets, we didn't have the time to try it, but using SMOTE and other \"balancing\" algorithms included in this library is one of the thing s that could potencially help to improve our results.\n",
    "\n",
    "For now, let's try oversampling our positive cases."
   ]
  },
  {
   "cell_type": "code",
   "execution_count": 47,
   "metadata": {},
   "outputs": [],
   "source": [
    "import utils\n",
    "\n",
    "def get_positive_samples(target_index, smiles, targets):\n",
    "    positive_smiles = []\n",
    "    for i in range(len(targets)):\n",
    "        if targets[i][target_index]:\n",
    "            positive_smiles.append(smiles[i])\n",
    "    return positive_smiles\n",
    "\n",
    "def over_sampling_data_set(target_index, positive_samples, smiles, target):\n",
    "    positives, negatives = utils.targets_mode()\n",
    "    ratio = negatives[target_index] - positives[target_index]\n",
    "    while ratio > 0:\n",
    "        vector = rd.choice(positive_samples)\n",
    "        index = rd.randint(0, len(target)-1)\n",
    "        smiles.insert(index, vector)\n",
    "        target.insert(index, 1.0)\n",
    "        ratio -= 1\n",
    "    return smiles, target"
   ]
  },
  {
   "cell_type": "markdown",
   "metadata": {},
   "source": [
    "And let's evaluate our model with the augmented dat-set."
   ]
  },
  {
   "cell_type": "code",
   "execution_count": null,
   "metadata": {},
   "outputs": [
    {
     "name": "stdout",
     "output_type": "stream",
     "text": [
      "Train\n",
      "Build model\n"
     ]
    },
    {
     "name": "stderr",
     "output_type": "stream",
     "text": [
      "/home/amy/Documents/reid_project/env/lib/python3.6/site-packages/ipykernel_launcher.py:25: UserWarning: The `input_dim` and `input_length` arguments in recurrent layers are deprecated. Use `input_shape` instead.\n",
      "/home/amy/Documents/reid_project/env/lib/python3.6/site-packages/ipykernel_launcher.py:25: UserWarning: Update your `LSTM` call to the Keras 2 API: `LSTM(64, dropout=0.2, recurrent_dropout=0.2, input_shape=(None, 1))`\n"
     ]
    },
    {
     "name": "stdout",
     "output_type": "stream",
     "text": [
      "Train on 22776 samples, validate on 5695 samples\n",
      "Epoch 1/1\n",
      "22752/22776 [============================>.] - ETA: 0s - loss: 0.5650 - acc: 0.7287"
     ]
    }
   ],
   "source": [
    "positive_samples = get_positive_samples(target_index, smiles, fill_targets())\n",
    "x_train, y = over_sampling_data_set(0, positive_samples, smiles, target)\n",
    "\n",
    "x_train, x_test, y_train, y_test = training_data(x_train, y)\n",
    "print(\"Train\")\n",
    "model = build_model()\n",
    "history= model.fit(x_train, y_train,\n",
    "                epochs=1,\n",
    "                validation_data=(x_test, y_test),\n",
    "                verbose=1)\n",
    "\n",
    "scores = model.evaluate(x_test, y_test, verbose=0)\n",
    "print(\"Accuracy: %.2f%%\" % (scores[1]*100))\n",
    "\n",
    "show_results(history)"
   ]
  }
 ],
 "metadata": {
  "kernelspec": {
   "display_name": "Python 3",
   "language": "python",
   "name": "python3"
  },
  "language_info": {
   "codemirror_mode": {
    "name": "ipython",
    "version": 3
   },
   "file_extension": ".py",
   "mimetype": "text/x-python",
   "name": "python",
   "nbconvert_exporter": "python",
   "pygments_lexer": "ipython3",
   "version": "3.6.5"
  }
 },
 "nbformat": 4,
 "nbformat_minor": 2
}
