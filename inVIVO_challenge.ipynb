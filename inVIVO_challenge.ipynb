{
 "cells": [
  {
   "cell_type": "markdown",
   "metadata": {},
   "source": [
    "### The Data is here!\n",
    "\n",
    "Ups! Those are not images... a shame, because I already know about image processing. Well, let's take a look!\n",
    "\n",
    "\n",
    "| smiles                      | target1 | target2| target3 | ... | taget12 |\n",
    "|-----------------------------|---------|--------|---------|-----|---------|\n",
    "|CCOc1ccc2nc(S(N)(=O)=O)sc2c1 |    0    |    0   |    1    | ... |    0    |\n",
    "\n",
    "Seems like we have the [SMILES](https://en.wikipedia.org/wiki/Simplified_molecular-input_line-entry_system) representation of some molecules and values for certain targets. The targets values are binary: 0 or 1.\n",
    "\n",
    "Let's see if we can predict the value of **target1** just using the SMILES we have. Doesn't sound like a bad plan, but we don't know much about molecules, but well, text processing is a huge field in machine learning and a SMILES is a string representation of a molecule.\n",
    "\n",
    "So, when we are learning \"sentences\" (like, for example, in sentiment analysis), we don't care only about the words as separate units, but also about the context. The meaning of a word might change depending on the previous or the next word or words. It sounds like we want something similar with our SMILES, we don't care only about an atom, or a character, in the SMILE, we care about the context. One of the techniques for predicting categories based on analyzing words and it context is using Recurrent Neural Netwoks (For a little overview about RNN and how they work, I read this [article](https://karpathy.github.io/2015/05/21/rnn-effectiveness/?fbclid=IwAR3hdJeXQV9_I1fHGlFNuB_pK5pcQX8lc-T0NPOMjt87gDITH3Mw-fJXSow) from Andrej Karpathy, who is the director of artificial intelligence and Autopilot Vision at Tesla and he specializes in deep learning and image recognition and understanding).\n",
    "\n",
    "First things first. We have to read the data!\n"
   ]
  },
  {
   "cell_type": "code",
   "execution_count": 83,
   "metadata": {},
   "outputs": [],
   "source": [
    "import csv\n",
    "\n",
    "def get_data():\n",
    "    targets_keys = [\"target1\", \"target2\", \"target3\", \"target4\", \"target5\",\n",
    "                    \"target6\", \"target7\", \"target8\", \"target9\", \"target10\",\n",
    "                    \"target11\", \"target12\"]\n",
    "    smiles_dict = {}\n",
    "    with open(\"data.csv\") as csvfile:\n",
    "        reader = csv.DictReader(csvfile)\n",
    "        for row in reader:\n",
    "            row_targets = []\n",
    "            for key in targets_keys:\n",
    "                row_targets.append(row[key])\n",
    "            smiles_dict[\"smiles\"] = row_targets\n",
    "    return smiles_dict"
   ]
  },
  {
   "cell_type": "markdown",
   "metadata": {},
   "source": [
    "Let's take a look at the content of our data:"
   ]
  },
  {
   "cell_type": "code",
   "execution_count": 84,
   "metadata": {},
   "outputs": [
    {
     "name": "stdout",
     "output_type": "stream",
     "text": [
      "smiles ['0', '0', '', '0', '0', '0', '0', '0', '0', '0', '1', '0']\n"
     ]
    }
   ],
   "source": [
    "import random as rd\n",
    "import numpy as np\n",
    "np.random.seed(7)\n",
    "\n",
    "data = get_data()\n",
    "smiles, targets = rd.choice(list(data.items()))\n",
    "print(smiles, targets)"
   ]
  },
  {
   "cell_type": "markdown",
   "metadata": {},
   "source": [
    "### 1st Problem: Missing Data\n",
    "\n",
    "Well well well... tha value for the 3rd target is empty. That is bad news, it means that we have missing data in our dataset. Let's find out how much data we are missing for each target."
   ]
  },
  {
   "cell_type": "code",
   "execution_count": 85,
   "metadata": {},
   "outputs": [],
   "source": [
    "def get_targets():\n",
    "    targets_keys = [\"target1\", \"target2\", \"target3\", \"target4\", \"target5\",\n",
    "                    \"target6\", \"target7\", \"target8\", \"target9\", \"target10\",\n",
    "                    \"target11\", \"target12\"]\n",
    "    targets = []\n",
    "    with open(\"data.csv\") as csvfile:\n",
    "        reader = csv.DictReader(csvfile)\n",
    "        for row in reader:\n",
    "            row_targets = []\n",
    "            for key in targets_keys:\n",
    "                row_targets.append(row[key])\n",
    "            targets.append(row_targets)\n",
    "    n_targets = []\n",
    "    for target in targets:\n",
    "        n_targets.append([float(i) if i != \"\" else None for i in target])\n",
    "    return n_targets"
   ]
  },
  {
   "cell_type": "code",
   "execution_count": 86,
   "metadata": {},
   "outputs": [
    {
     "name": "stdout",
     "output_type": "stream",
     "text": [
      "[ 575. 1112. 1323. 2074. 1698.  902. 1431. 2079.  782. 1420. 2094. 1105.]\n"
     ]
    }
   ],
   "source": [
    "targets = get_targets()\n",
    "counter = np.zeros(12)\n",
    "for target in targets:\n",
    "    for i in range(len(target)):\n",
    "        if target[i] is None:\n",
    "            counter[i] += 1\n",
    "print(counter)"
   ]
  },
  {
   "cell_type": "markdown",
   "metadata": {},
   "source": [
    "Wow! for some columns we are missing more than 2000 values! That's a lot of data!\n",
    "\n",
    "Worry don't yet. We can face this problem in several ways:\n",
    "- We could remove the rows where we have empty fields\n",
    "- We could use statistics measures to fill the empty spaces (mode, mean, median)\n",
    "- We could try to \"predict\" the missing values\n",
    "\n",
    "We are not trying the first approach, as we already have only 8k of data, we decided not to follow any technique implying to decrease the size of the data-set.\n",
    "\n",
    "Even when we think the 3rd option is the best one, for now, we are gonna go with the second one, in order to save time. If at the end we have any time left, we will try the 3rd approach.\n",
    "\n",
    "The first thing we are gonna do is to check how many 0s and 1s we have for each target:"
   ]
  },
  {
   "cell_type": "code",
   "execution_count": 87,
   "metadata": {
    "scrolled": true
   },
   "outputs": [
    {
     "name": "stdout",
     "output_type": "stream",
     "text": [
      "Number of 1s per target:\n",
      "[310. 238. 785. 307. 798. 356. 189. 961. 267. 379. 936. 431.]\n",
      "\n",
      "Number of 0s per target:\n",
      "[7129. 6664. 5906. 5633. 5518. 6756. 6394. 4974. 6965. 6215. 4984. 6478.]\n"
     ]
    }
   ],
   "source": [
    "ones_counter = np.zeros(12)\n",
    "zeros_counter = np.zeros(12)\n",
    "for target in targets:\n",
    "    for i in range(len(target)):\n",
    "        if target[i] is not None:\n",
    "            if target[i] == 1:\n",
    "                ones_counter[i] += 1\n",
    "            else:\n",
    "                zeros_counter[i] += 1\n",
    "print(\"Number of 1s per target:\")\n",
    "print(ones_counter)\n",
    "print(\"\")\n",
    "print(\"Number of 0s per target:\")\n",
    "print(zeros_counter)"
   ]
  },
  {
   "cell_type": "markdown",
   "metadata": {},
   "source": [
    "From the result above is easy to notice that, for this data-set, the mean is below 0.5 and the mode and the median are both 0, for all the targets. So, following our second criteria, we are gonna fill all the missing values with 0s."
   ]
  },
  {
   "cell_type": "code",
   "execution_count": 88,
   "metadata": {},
   "outputs": [],
   "source": [
    "def fill_targets():\n",
    "    \"\"\"\n",
    "    This function fills all the missing values in the targets with 0s\n",
    "    \"\"\"\n",
    "    targets = get_targets()\n",
    "    for target in targets:\n",
    "        for i in range(len(target)):\n",
    "            if target[i] is None:\n",
    "                target[i] = 0.0\n",
    "    return targets"
   ]
  },
  {
   "cell_type": "markdown",
   "metadata": {},
   "source": [
    "### 2nd problem: SMILES representation\n",
    "\n",
    "Now we can do our first attempt of using a RNN for learning to predict the targets. In order to do that, we need to transform our data into numerical vectors.\n",
    "\n",
    "However, there is something we must consider first: could it happen that two different SMILES represent the same molecule? After a little bit of search, we found out that, in fact, is a very possible thing. A simple way to target this problem is to use any SMILES toolkit for python to transform our SMILES into their \"canonical form\". SMILES doesn't have a canonical form per se, but every toolkit for managing SMILES have it's own canonical representation, which is all what we need.\n",
    "\n",
    "To target this problem, we used the **rdkit** library. The **rdkit** library needs to be installed using conda and it's not included into our current virtualenv, so the code to generate the canonical version of the SMILES is posted here just as reference, but it's included into the project and the file \"canonized_smiles.txt\" represents it's output:\n",
    "\n",
    "```python\n",
    "from rdkit import Chem\n",
    "import csv\n",
    "import numpy as np\n",
    "\n",
    "\"\"\"\n",
    "This script reads the data from the data.csv file and uses rdkit\n",
    "to canonize all the smiles.\n",
    "Also, creates a list with 12 elements for each row with the values of\n",
    "the targets and, for the empty target values, it creates a new target array\n",
    "with all the possible values.\n",
    "Finally, it saves the list with all the canonized smiles, the\n",
    "list with all the lists of targets and an augmentd list of canonized smiles\n",
    "into .npy files.\n",
    "\"\"\"\n",
    "def get_smiles_and_targets():\n",
    "    \"\"\"\n",
    "    Reads data from the data.csv file and returns two arrays of equal lenght\n",
    "    Output:\n",
    "            smiles: the rdkit representation of every smiles in the original\n",
    "                    data\n",
    "            targets: an array of arrays with the values for every one of the\n",
    "                    12 targets\n",
    "    \"\"\"\n",
    "    targets_keys = [\"target1\", \"target2\", \"target3\", \"target4\", \"target5\",\n",
    "                    \"target6\", \"target7\", \"target8\", \"target9\", \"target10\",\n",
    "                    \"target11\", \"target12\"]\n",
    "    smiles = []\n",
    "    targets = []\n",
    "    with open(\"data.csv\") as csvfile:\n",
    "        reader = csv.DictReader(csvfile)\n",
    "        for row in reader:\n",
    "            smiles.append(Chem.MolToSmiles(Chem.MolFromSmiles(row[\"smiles\"])))\n",
    "            row_targets = []\n",
    "            for key in targets_keys:\n",
    "                row_targets.append(row[key])\n",
    "            targets.append(row_targets)\n",
    "    return smiles, targets\n",
    "\n",
    "def save_smiles():\n",
    "    \"\"\"\n",
    "    Saves the smile representation from rdkit into a .txt file\n",
    "    \"\"\"\n",
    "    smiles, _ = get_smiles_and_targets()\n",
    "    with open(\"canonized_smiles.txt\", 'w') as f:\n",
    "        for i in smiles:\n",
    "            f.write(i + '\\n')\n",
    "\n",
    "save_smiles()\n",
    "``` "
   ]
  },
  {
   "cell_type": "markdown",
   "metadata": {},
   "source": [
    "Now, we can be sure that we will not \"learn\" as two different cases, two different representations of the same molecule. \n",
    "\n",
    "Let's just do one more step: to decide how to map the data. The simplest way to map a SMILES representation into an integers vector, is to map every character to an specific integer. Obviously, any representation that allow us to keep more infomation about the original structure of the data, would be more helpfull than this. Different approaches can be used to improve the data representation, but, as a grammar definition is followed to represent moleccules as SMILES, we choose to transform the SMILES representation into tokens of that grammar.\n",
    "\n",
    "The file script **smiles_lexer.py** contains the code to represent the SMILES's grammar and to tokenize a specific SMILES. We used the python **ply** library for defining the grammar."
   ]
  },
  {
   "cell_type": "code",
   "execution_count": 89,
   "metadata": {},
   "outputs": [],
   "source": [
    "from smiles_lexer import tokenize_smiles\n",
    "\n",
    "def get_tokens_dict():\n",
    "    st_dict = {}\n",
    "    with open(\"canonized_smiles.txt\", 'r') as f:\n",
    "        smiles = [line.rstrip('\\n') for line in f]\n",
    "    index = 2\n",
    "    for smile in smiles:\n",
    "        tokenized_smile = list(tokenize_smiles(smile))\n",
    "        for token in tokenized_smile:\n",
    "            if not token in st_dict:\n",
    "                st_dict[token] = index\n",
    "                index += 1\n",
    "    return st_dict\n",
    "\n",
    "def get_smiles_as_vectors():\n",
    "    with open(\"canonized_smiles.txt\", 'r') as f:\n",
    "        smiles = [line.rstrip('\\n') for line in f]\n",
    "    tokens_dict = get_tokens_dict()\n",
    "    r = []\n",
    "    for smile in smiles:\n",
    "        vector = []\n",
    "        tokens = list(tokenize_smiles(smile))\n",
    "        for token in tokens:\n",
    "            vector.append(tokens_dict[token])\n",
    "        r.append(vector)\n",
    "    return r"
   ]
  },
  {
   "cell_type": "markdown",
   "metadata": {},
   "source": [
    "Now, we have our data organized enough as to be able to do our first learning attemp. Let's try to teach a RNN model to predict given a cetain SMILES, it result for **target1**."
   ]
  },
  {
   "cell_type": "code",
   "execution_count": 90,
   "metadata": {
    "scrolled": false
   },
   "outputs": [
    {
     "name": "stdout",
     "output_type": "stream",
     "text": [
      "Train\n",
      "Build model\n"
     ]
    },
    {
     "name": "stderr",
     "output_type": "stream",
     "text": [
      "/home/amy/Documents/reid_project/env/lib/python3.6/site-packages/ipykernel_launcher.py:26: UserWarning: The `input_dim` and `input_length` arguments in recurrent layers are deprecated. Use `input_shape` instead.\n",
      "/home/amy/Documents/reid_project/env/lib/python3.6/site-packages/ipykernel_launcher.py:26: UserWarning: Update your `LSTM` call to the Keras 2 API: `LSTM(64, dropout=0.2, recurrent_dropout=0.2, input_shape=(None, 1))`\n"
     ]
    },
    {
     "name": "stdout",
     "output_type": "stream",
     "text": [
      "Train on 6411 samples, validate on 1603 samples\n",
      "Epoch 1/10\n",
      "6411/6411 [==============================] - 51s 8ms/step - loss: 0.1993 - acc: 0.9576 - val_loss: 0.1787 - val_acc: 0.9563\n",
      "Epoch 2/10\n",
      "6411/6411 [==============================] - 37s 6ms/step - loss: 0.1588 - acc: 0.9626 - val_loss: 0.1778 - val_acc: 0.9563\n",
      "Epoch 3/10\n",
      "6411/6411 [==============================] - 26s 4ms/step - loss: 0.1590 - acc: 0.9626 - val_loss: 0.1733 - val_acc: 0.9563\n",
      "Epoch 4/10\n",
      "6411/6411 [==============================] - 31s 5ms/step - loss: 0.1561 - acc: 0.9626 - val_loss: 0.1718 - val_acc: 0.9563\n",
      "Epoch 5/10\n",
      "6411/6411 [==============================] - 25s 4ms/step - loss: 0.1536 - acc: 0.9626 - val_loss: 0.1636 - val_acc: 0.9563\n",
      "Epoch 6/10\n",
      "6411/6411 [==============================] - 24s 4ms/step - loss: 0.1505 - acc: 0.9624 - val_loss: 0.1675 - val_acc: 0.9563\n",
      "Epoch 7/10\n",
      "6411/6411 [==============================] - 27s 4ms/step - loss: 0.1477 - acc: 0.9626 - val_loss: 0.1657 - val_acc: 0.9563\n",
      "Epoch 8/10\n",
      "6411/6411 [==============================] - 24s 4ms/step - loss: 0.1467 - acc: 0.9626 - val_loss: 0.1592 - val_acc: 0.9563\n",
      "Epoch 9/10\n",
      "6411/6411 [==============================] - 25s 4ms/step - loss: 0.1454 - acc: 0.9626 - val_loss: 0.1660 - val_acc: 0.9563\n",
      "Epoch 10/10\n",
      "6411/6411 [==============================] - 30s 5ms/step - loss: 0.1446 - acc: 0.9626 - val_loss: 0.1602 - val_acc: 0.9563\n",
      "Accuracy: 95.63%\n"
     ]
    },
    {
     "data": {
      "image/png": "[encoded data removed]",
      "text/plain": [
       "<Figure size 432x288 with 1 Axes>"
      ]
     },
     "metadata": {
      "needs_background": "light"
     },
     "output_type": "display_data"
    },
    {
     "data": {
      "image/png": "[encoded data removed]",
      "text/plain": [
       "<Figure size 432x288 with 1 Axes>"
      ]
     },
     "metadata": {
      "needs_background": "light"
     },
     "output_type": "display_data"
    }
   ],
   "source": [
    "import matplotlib.pyplot as plt\n",
    "import keras\n",
    "from keras.models import Sequential\n",
    "from keras.layers import Dense\n",
    "from keras.layers import LSTM\n",
    "from keras.preprocessing import sequence\n",
    "from keras.utils import to_categorical\n",
    "np.random.seed(7)\n",
    "\n",
    "def training_data(x_train, y):\n",
    "    max_len = len(max(x_train, key=len))\n",
    "    x_train = sequence.pad_sequences(x_train, maxlen=max_len)\n",
    "    x = [[[float(i)] for i in x] for x in x_train]\n",
    "    x = np.array(x)\n",
    "    x = x.reshape(x.shape[0], max_len, 1)\n",
    "    y = np.array(y)\n",
    "    y = to_categorical(y, 2)\n",
    "    spl = (len(x_train)*80)//100\n",
    "    x_train, x_test = np.array(x[0:spl]), np.array(x[spl:])\n",
    "    y_train, y_test = np.array(y[0:spl]), np.array(y[spl:])\n",
    "    return x_train, x_test, y_train, y_test\n",
    "\n",
    "def build_model():\n",
    "    print(\"Build model\")\n",
    "    model = Sequential()\n",
    "    model.add(LSTM(64, dropout=0.2, recurrent_dropout=0.2, input_dim=1))\n",
    "    model.add(Dense(2, activation=\"sigmoid\"))\n",
    "\n",
    "    model.compile(loss=\"categorical_crossentropy\",\n",
    "                  optimizer=\"adam\",\n",
    "                  metrics=[\"accuracy\"])\n",
    "    return model\n",
    "\n",
    "def show_metrics(history):\n",
    "    # summarize history for accuracy\n",
    "    plt.plot(history.history['acc'])\n",
    "    plt.plot(history.history['val_acc'])\n",
    "    plt.title('model accuracy')\n",
    "    plt.ylabel('accuracy')\n",
    "    plt.xlabel('epoch')\n",
    "    plt.legend(['train', 'test'], loc='upper left')\n",
    "    plt.show()\n",
    "\n",
    "    # summarize history for loss\n",
    "    plt.plot(history.history['loss'])\n",
    "    plt.plot(history.history['val_loss'])\n",
    "    plt.title('model loss')\n",
    "    plt.ylabel('loss')\n",
    "    plt.xlabel('epoch')\n",
    "    plt.legend(['train', 'test'], loc='upper left')\n",
    "    plt.show()\n",
    "\n",
    "smiles = get_smiles_as_vectors()\n",
    "target_index = 0\n",
    "target = [target[target_index] for target in fill_targets()]\n",
    "x, y = smiles, target\n",
    "\n",
    "print(\"Train\")\n",
    "x_train, x_test, y_train, y_test = training_data(x, y)\n",
    "model = build_model()\n",
    "history= model.fit(x_train, y_train,\n",
    "                epochs=10,\n",
    "                validation_data=(x_test, y_test),\n",
    "                verbose=1)\n",
    "\n",
    "scores = model.evaluate(x_test, y_test, verbose=0)\n",
    "print(\"Accuracy: %.2f%%\" % (scores[1]*100))\n",
    "\n",
    "show_metrics(history)\n"
   ]
  },
  {
   "cell_type": "markdown",
   "metadata": {},
   "source": [
    "As you can see above, the accuracy obtained for the model is pretty high, but is not changing during training and the learning curves are not looking good. Let's check what is really going on. We can start by computing the variables needed to find out the precision and recall values:"
   ]
  },
  {
   "cell_type": "code",
   "execution_count": 91,
   "metadata": {},
   "outputs": [
    {
     "name": "stdout",
     "output_type": "stream",
     "text": [
      "1603/1603 [==============================] - 2s 1ms/step\n",
      "\n",
      "True Positives: 0\n",
      "True Negatives: 1533\n",
      "False Positives: 0\n",
      "False Negatives: 70\n"
     ]
    }
   ],
   "source": [
    "def get_target_values(categories):\n",
    "    values = []\n",
    "    for pair in categories:\n",
    "        if pair[0] > 0.5:\n",
    "            values.append(0.0)\n",
    "        else:\n",
    "            values.append(1.0)\n",
    "    return values\n",
    "\n",
    "def evaluation_variables(predicted, expected):\n",
    "    \"\"\"\n",
    "    :returns a tuple: true_positives, true_negatives, false_positives, false_negatives\n",
    "    \"\"\"\n",
    "    t_p, t_n, f_p, f_n = 0, 0, 0, 0\n",
    "    for i in range(len(predicted)):\n",
    "        if predicted[i] == 1 and expected[i] == 1:\n",
    "            t_p += 1\n",
    "        elif predicted[i] == 1 and expected[i] != 1:\n",
    "            f_p += 1\n",
    "        elif predicted[i] == 0 and expected[i] == 0:\n",
    "            t_n += 1\n",
    "        else:\n",
    "            f_n += 1\n",
    "    print(\"\")\n",
    "    print(\"True Positives: %i\" %t_p)\n",
    "    print(\"True Negatives: %i\" %t_n)\n",
    "    print(\"False Positives: %i\" %f_p)\n",
    "    print(\"False Negatives: %i\" %f_n)\n",
    "    return t_p, t_n, f_p, f_n\n",
    "\n",
    "predicted = get_target_values(model.predict(x_test, verbose=1))\n",
    "expected = get_target_values(y_test)\n",
    "\n",
    "t_p, t_n, f_p, f_n = evaluation_variables(predicted, expected)"
   ]
  },
  {
   "cell_type": "markdown",
   "metadata": {},
   "source": [
    "### 3rd Problem: Balancing Data\n",
    "\n",
    "The explanation here is pretty obvious: our classifier learned to classify any element as negative. There is not a single output for the evaluation set with a positive value.\n",
    "\n",
    "To explore why this happened, let's look into the percent that positives values represent for every target:"
   ]
  },
  {
   "cell_type": "code",
   "execution_count": 92,
   "metadata": {},
   "outputs": [
    {
     "name": "stdout",
     "output_type": "stream",
     "text": [
      "[ 4.16722678  3.44827586 11.73217755  5.16835017 12.63457885  5.0056243\n",
      "  2.87103144 16.19208088  3.69192478  5.74764938 15.81081081  6.23823998]\n"
     ]
    }
   ],
   "source": [
    "def positives_proportion():\n",
    "    targets = get_targets()\n",
    "    ones_counter = np.zeros(12)\n",
    "    zeros_counter = np.zeros(12)\n",
    "    for target in targets:\n",
    "        for i in range(len(target)):\n",
    "            if target[i] is not None:\n",
    "                if target[i] == 1:\n",
    "                    ones_counter[i] += 1\n",
    "                else:\n",
    "                    zeros_counter[i] += 1\n",
    "    return ones_counter * 100 / (ones_counter + zeros_counter)\n",
    "\n",
    "print(positives_proportion())"
   ]
  },
  {
   "cell_type": "markdown",
   "metadata": {},
   "source": [
    "As you can see above, the data is very imbalanced. For **target1**, the number of positives cases represent only a 4.16% of the total of cases. The biggest proportion of positive cases is for **target8**, with a 16.19%.\n",
    "\n",
    "There's, again, different ways to target this problem. A common way is undersampling your data, if your data-set is too large, or oversampling your data, if the data-set isn't that large. There's another powerful technique, wich is to generate synthetic samples. SMOTE or the Synthetic Minority Over-sampling Technique, is one of the must popular algorithms to do that. [imbalance-learn](https://github.com/scikit-learn-contrib/imbalanced-learn) is a python library for balancing data-sets, we didn't have the time to try it, but using SMOTE and other \"balancing\" algorithms included in this library is one of the thing s that could potencially help to improve our results.\n",
    "\n",
    "For now, let's try oversampling our positive cases."
   ]
  },
  {
   "cell_type": "code",
   "execution_count": 93,
   "metadata": {},
   "outputs": [],
   "source": [
    "import utils\n",
    "\n",
    "def get_positive_samples(target_index, smiles, targets):\n",
    "    positive_smiles = []\n",
    "    for i in range(len(targets)):\n",
    "        if targets[i][target_index]:\n",
    "            positive_smiles.append(smiles[i])\n",
    "    return positive_smiles\n",
    "\n",
    "def over_sampling_data_set(target_index, positive_samples, smiles, target):\n",
    "    smiles, target = smiles.copy(), target.copy()\n",
    "    positives, negatives = utils.targets_mode()\n",
    "    ratio = negatives[target_index] - positives[target_index]\n",
    "    while ratio > 0:\n",
    "        vector = rd.choice(positive_samples)\n",
    "        index = rd.randint(0, len(target)-1)\n",
    "        smiles.insert(index, vector)\n",
    "        target.insert(index, 1.0)\n",
    "        ratio -= 1\n",
    "    return smiles, target"
   ]
  },
  {
   "cell_type": "markdown",
   "metadata": {},
   "source": [
    "And let's evaluate our model with the augmented dat-set."
   ]
  },
  {
   "cell_type": "code",
   "execution_count": 94,
   "metadata": {},
   "outputs": [
    {
     "name": "stdout",
     "output_type": "stream",
     "text": [
      "Train\n",
      "Build model\n"
     ]
    },
    {
     "name": "stderr",
     "output_type": "stream",
     "text": [
      "/home/amy/Documents/reid_project/env/lib/python3.6/site-packages/ipykernel_launcher.py:26: UserWarning: The `input_dim` and `input_length` arguments in recurrent layers are deprecated. Use `input_shape` instead.\n",
      "/home/amy/Documents/reid_project/env/lib/python3.6/site-packages/ipykernel_launcher.py:26: UserWarning: Update your `LSTM` call to the Keras 2 API: `LSTM(64, dropout=0.2, recurrent_dropout=0.2, input_shape=(None, 1))`\n"
     ]
    },
    {
     "name": "stdout",
     "output_type": "stream",
     "text": [
      "Train on 11866 samples, validate on 2967 samples\n",
      "Epoch 1/10\n",
      "11866/11866 [==============================] - 48s 4ms/step - loss: 0.6041 - acc: 0.6675 - val_loss: 0.5651 - val_acc: 0.7256\n",
      "Epoch 2/10\n",
      "11866/11866 [==============================] - 46s 4ms/step - loss: 0.5608 - acc: 0.7126 - val_loss: 0.5441 - val_acc: 0.7401\n",
      "Epoch 3/10\n",
      "11866/11866 [==============================] - 45s 4ms/step - loss: 0.5555 - acc: 0.7139 - val_loss: 0.5366 - val_acc: 0.7378\n",
      "Epoch 4/10\n",
      "11866/11866 [==============================] - 43s 4ms/step - loss: 0.5461 - acc: 0.7233 - val_loss: 0.5467 - val_acc: 0.7139\n",
      "Epoch 5/10\n",
      "11866/11866 [==============================] - 44s 4ms/step - loss: 0.5380 - acc: 0.7244 - val_loss: 0.5287 - val_acc: 0.7297\n",
      "Epoch 6/10\n",
      "11866/11866 [==============================] - 46s 4ms/step - loss: 0.5349 - acc: 0.7264 - val_loss: 0.5524 - val_acc: 0.7081\n",
      "Epoch 7/10\n",
      "11866/11866 [==============================] - 50s 4ms/step - loss: 0.5339 - acc: 0.7251 - val_loss: 0.5222 - val_acc: 0.7253\n",
      "Epoch 8/10\n",
      "11866/11866 [==============================] - 49s 4ms/step - loss: 0.5221 - acc: 0.7296 - val_loss: 0.5155 - val_acc: 0.7337\n",
      "Epoch 9/10\n",
      "11866/11866 [==============================] - 50s 4ms/step - loss: 0.5166 - acc: 0.7362 - val_loss: 0.5427 - val_acc: 0.7098\n",
      "Epoch 10/10\n",
      "11866/11866 [==============================] - 46s 4ms/step - loss: 0.5107 - acc: 0.7391 - val_loss: 0.5281 - val_acc: 0.7310\n",
      "Accuracy: 73.10%\n"
     ]
    },
    {
     "data": {
      "image/png": "[encoded data removed]",
      "text/plain": [
       "<Figure size 432x288 with 1 Axes>"
      ]
     },
     "metadata": {
      "needs_background": "light"
     },
     "output_type": "display_data"
    },
    {
     "data": {
      "image/png": "[encoded data removed]",
      "text/plain": [
       "<Figure size 432x288 with 1 Axes>"
      ]
     },
     "metadata": {
      "needs_background": "light"
     },
     "output_type": "display_data"
    }
   ],
   "source": [
    "positive_samples = get_positive_samples(target_index, smiles, fill_targets())\n",
    "x_train, y = over_sampling_data_set(0, positive_samples, smiles, target)\n",
    "\n",
    "x_train, x_test, y_train, y_test = training_data(x_train, y)\n",
    "\n",
    "print(\"Train\")\n",
    "model = build_model()\n",
    "history= model.fit(x_train, y_train,\n",
    "                epochs=10,\n",
    "                validation_data=(x_test, y_test),\n",
    "                verbose=1)\n",
    "\n",
    "scores = model.evaluate(x_test, y_test, verbose=0)\n",
    "print(\"Accuracy: %.2f%%\" % (scores[1]*100))\n",
    "\n",
    "show_metrics(history)"
   ]
  },
  {
   "cell_type": "markdown",
   "metadata": {},
   "source": [
    "Now it looks a bit better, let's check the accuracy, precision and recall of the model."
   ]
  },
  {
   "cell_type": "code",
   "execution_count": 95,
   "metadata": {},
   "outputs": [
    {
     "name": "stdout",
     "output_type": "stream",
     "text": [
      "2967/2967 [==============================] - 3s 1ms/step\n",
      "\n",
      "True Positives: 649\n",
      "True Negatives: 1490\n",
      "False Positives: 45\n",
      "False Negatives: 783\n",
      "\n",
      "Accuracy: 0.720930\n",
      "Precision: 0.935159\n",
      "Recall: 0.453212\n"
     ]
    }
   ],
   "source": [
    "predicted = get_target_values(model.predict(x_test, verbose=1))\n",
    "expected = get_target_values(y_test)\n",
    "\n",
    "t_p, t_n, f_p, f_n = evaluation_variables(predicted, expected)\n",
    "\n",
    "print(\"\")\n",
    "print(\"Accuracy: %f\" %((t_p + t_n)/(t_p + t_n + f_p + f_n)))\n",
    "print(\"Precision: %f\" %(t_p/(t_p + f_p)))\n",
    "print(\"Recall: %f\" %(t_p/(t_p + f_n)))"
   ]
  },
  {
   "cell_type": "markdown",
   "metadata": {},
   "source": [
    "We got a really high precision! But as we are trying to determinate the toxicity of a molecule, is the recall what we care more about, as recall shall be the model metric we use to select our best model when there is a high cost associated with False Negative. In an attempt to improve recall, let's add a convolutional and a pooling layer to our model, in order to improve the features learning."
   ]
  },
  {
   "cell_type": "code",
   "execution_count": 96,
   "metadata": {},
   "outputs": [
    {
     "name": "stdout",
     "output_type": "stream",
     "text": [
      "Train\n",
      "Build model\n"
     ]
    },
    {
     "name": "stderr",
     "output_type": "stream",
     "text": [
      "/home/amy/Documents/reid_project/env/lib/python3.6/site-packages/ipykernel_launcher.py:9: UserWarning: The `input_dim` and `input_length` arguments in recurrent layers are deprecated. Use `input_shape` instead.\n",
      "  if __name__ == '__main__':\n",
      "/home/amy/Documents/reid_project/env/lib/python3.6/site-packages/ipykernel_launcher.py:9: UserWarning: Update your `LSTM` call to the Keras 2 API: `LSTM(64, dropout=0.2, recurrent_dropout=0.2, input_shape=(None, 1))`\n",
      "  if __name__ == '__main__':\n"
     ]
    },
    {
     "name": "stdout",
     "output_type": "stream",
     "text": [
      "Train on 11866 samples, validate on 2967 samples\n",
      "Epoch 1/10\n",
      "11866/11866 [==============================] - 33s 3ms/step - loss: 0.5968 - acc: 0.6765 - val_loss: 0.5512 - val_acc: 0.7287\n",
      "Epoch 2/10\n",
      "11866/11866 [==============================] - 29s 2ms/step - loss: 0.5407 - acc: 0.7346 - val_loss: 0.5366 - val_acc: 0.7321\n",
      "Epoch 3/10\n",
      "11866/11866 [==============================] - 29s 2ms/step - loss: 0.5189 - acc: 0.7457 - val_loss: 0.5244 - val_acc: 0.7398\n",
      "Epoch 4/10\n",
      "11866/11866 [==============================] - 29s 2ms/step - loss: 0.5020 - acc: 0.7565 - val_loss: 0.5208 - val_acc: 0.7412\n",
      "Epoch 5/10\n",
      "11866/11866 [==============================] - 29s 2ms/step - loss: 0.4896 - acc: 0.7580 - val_loss: 0.5084 - val_acc: 0.7364\n",
      "Epoch 6/10\n",
      "11866/11866 [==============================] - 30s 3ms/step - loss: 0.4818 - acc: 0.7617 - val_loss: 0.4909 - val_acc: 0.7469\n",
      "Epoch 7/10\n",
      "11866/11866 [==============================] - 31s 3ms/step - loss: 0.4676 - acc: 0.7700 - val_loss: 0.4652 - val_acc: 0.7637\n",
      "Epoch 8/10\n",
      "11866/11866 [==============================] - 31s 3ms/step - loss: 0.4551 - acc: 0.7763 - val_loss: 0.4492 - val_acc: 0.7658\n",
      "Epoch 9/10\n",
      "11866/11866 [==============================] - 30s 3ms/step - loss: 0.4415 - acc: 0.7869 - val_loss: 0.4407 - val_acc: 0.7860\n",
      "Epoch 10/10\n",
      "11866/11866 [==============================] - 30s 3ms/step - loss: 0.4286 - acc: 0.7962 - val_loss: 0.4159 - val_acc: 0.8059\n",
      "Accuracy: 80.59%\n"
     ]
    },
    {
     "data": {
      "image/png": "[encoded data removed]",
      "text/plain": [
       "<Figure size 432x288 with 1 Axes>"
      ]
     },
     "metadata": {
      "needs_background": "light"
     },
     "output_type": "display_data"
    },
    {
     "data": {
      "image/png": "[encoded data removed]",
      "text/plain": [
       "<Figure size 432x288 with 1 Axes>"
      ]
     },
     "metadata": {
      "needs_background": "light"
     },
     "output_type": "display_data"
    }
   ],
   "source": [
    "from keras.layers.convolutional import Conv1D\n",
    "from keras.layers.convolutional import MaxPooling1D\n",
    "\n",
    "def build_cnn_model():\n",
    "    print(\"Build model\")\n",
    "    model = Sequential()\n",
    "    model.add(Conv1D(filters=32, kernel_size=3, padding='same', activation='relu'))\n",
    "    model.add(MaxPooling1D(pool_size=2))\n",
    "    model.add(LSTM(64, dropout=0.2, recurrent_dropout=0.2, input_dim=1))\n",
    "    model.add(Dense(2, activation=\"sigmoid\"))\n",
    "\n",
    "    model.compile(loss=\"categorical_crossentropy\",\n",
    "                  optimizer=\"adam\",\n",
    "                  metrics=[\"accuracy\"])\n",
    "    return model\n",
    "\n",
    "print(\"Train\")\n",
    "model = build_cnn_model()\n",
    "history= model.fit(x_train, y_train,\n",
    "                epochs=10,\n",
    "                validation_data=(x_test, y_test),\n",
    "                verbose=1)\n",
    "\n",
    "scores = model.evaluate(x_test, y_test, verbose=0)\n",
    "print(\"Accuracy: %.2f%%\" % (scores[1]*100))\n",
    "\n",
    "show_metrics(history)"
   ]
  },
  {
   "cell_type": "code",
   "execution_count": 97,
   "metadata": {},
   "outputs": [
    {
     "name": "stdout",
     "output_type": "stream",
     "text": [
      "2967/2967 [==============================] - 2s 799us/step\n",
      "\n",
      "True Positives: 1049\n",
      "True Negatives: 1148\n",
      "False Positives: 387\n",
      "False Negatives: 383\n",
      "\n",
      "Accuracy: 0.740479\n",
      "Precision: 0.730501\n",
      "Recall: 0.732542\n"
     ]
    }
   ],
   "source": [
    "predicted = get_target_values(model.predict(x_test, verbose=1))\n",
    "expected = get_target_values(y_test)\n",
    "\n",
    "t_p, t_n, f_p, f_n = evaluation_variables(predicted, expected)\n",
    "\n",
    "print(\"\")\n",
    "print(\"Accuracy: %f\" %((t_p + t_n)/(t_p + t_n + f_p + f_n)))\n",
    "print(\"Precision: %f\" %(t_p/(t_p + f_p)))\n",
    "print(\"Recall: %f\" %(t_p/(t_p + f_n)))"
   ]
  },
  {
   "cell_type": "code",
   "execution_count": 98,
   "metadata": {},
   "outputs": [
    {
     "name": "stdout",
     "output_type": "stream",
     "text": [
      "8014/8014 [==============================] - 4s 477us/step\n",
      "\n",
      "True Positives: 231\n",
      "True Negatives: 5866\n",
      "False Positives: 1838\n",
      "False Negatives: 79\n",
      "\n",
      "Accuracy: 0.760794\n",
      "Precision: 0.111648\n",
      "Recall: 0.745161\n"
     ]
    }
   ],
   "source": [
    "max_len = len(max(smiles, key=len))\n",
    "x_train = sequence.pad_sequences(smiles, maxlen=max_len)\n",
    "x = [[[float(i)] for i in x] for x in x_train]\n",
    "x = np.array(x)\n",
    "x = x.reshape(x.shape[0], max_len, 1)\n",
    "\n",
    "predicted = get_target_values(model.predict(x, verbose=1))\n",
    "\n",
    "t_p, t_n, f_p, f_n = evaluation_variables(predicted, target)\n",
    "\n",
    "print(\"\")\n",
    "print(\"Accuracy: %f\" %((t_p + t_n)/(t_p + t_n + f_p + f_n)))\n",
    "print(\"Precision: %f\" %(t_p/(t_p + f_p)))\n",
    "print(\"Recall: %f\" %(t_p/(t_p + f_n)))"
   ]
  },
  {
   "cell_type": "markdown",
   "metadata": {},
   "source": [
    "Now we got a better recall value!\n",
    "\n",
    "What we want to do next is to build a model that takes into account the possible correlation between the targets to improve the accuracy of our predictions. Let's find out if there are some symptoms of correlation in our data-set. If we look carefully, we find cases like this:\n",
    "\n",
    "```\n",
    "Nc1ccc(-c2ccc(N)cc2)cc1\n",
    "['0', '0', '0', '1', '0', '0', '0', '0', '0', '0', '0', '0']\n",
    "['0', '0', '1', '' , '' , '0', '0', '1', '1', '0', '1', '0']\n",
    "```\n",
    "\n",
    "Notice that for the same molecule, the value of **target3**, **target8**, **target9** and **target11** is different, so it could be possible that some target values actually have influence in other target values. \n",
    "\n",
    "What we are going to do, is to add a the vector with the complementary targets to our input, so the network can \"learn\" their influence."
   ]
  },
  {
   "cell_type": "code",
   "execution_count": 99,
   "metadata": {},
   "outputs": [
    {
     "name": "stdout",
     "output_type": "stream",
     "text": [
      "Train\n",
      "Build model\n"
     ]
    },
    {
     "name": "stderr",
     "output_type": "stream",
     "text": [
      "/home/amy/Documents/reid_project/env/lib/python3.6/site-packages/ipykernel_launcher.py:9: UserWarning: The `input_dim` and `input_length` arguments in recurrent layers are deprecated. Use `input_shape` instead.\n",
      "  if __name__ == '__main__':\n",
      "/home/amy/Documents/reid_project/env/lib/python3.6/site-packages/ipykernel_launcher.py:9: UserWarning: Update your `LSTM` call to the Keras 2 API: `LSTM(64, dropout=0.2, recurrent_dropout=0.2, input_shape=(None, 1))`\n",
      "  if __name__ == '__main__':\n"
     ]
    },
    {
     "name": "stdout",
     "output_type": "stream",
     "text": [
      "Train on 11866 samples, validate on 2967 samples\n",
      "Epoch 1/10\n",
      "11866/11866 [==============================] - 32s 3ms/step - loss: 0.5900 - acc: 0.6914 - val_loss: 0.5431 - val_acc: 0.7182\n",
      "Epoch 2/10\n",
      "11866/11866 [==============================] - 36s 3ms/step - loss: 0.4999 - acc: 0.7642 - val_loss: 0.4816 - val_acc: 0.7718\n",
      "Epoch 3/10\n",
      "11866/11866 [==============================] - 36s 3ms/step - loss: 0.4677 - acc: 0.7801 - val_loss: 0.4610 - val_acc: 0.7873\n",
      "Epoch 4/10\n",
      "11866/11866 [==============================] - 33s 3ms/step - loss: 0.4526 - acc: 0.7904 - val_loss: 0.4518 - val_acc: 0.7873\n",
      "Epoch 5/10\n",
      "11866/11866 [==============================] - 33s 3ms/step - loss: 0.4424 - acc: 0.7953 - val_loss: 0.4379 - val_acc: 0.7981\n",
      "Epoch 6/10\n",
      "11866/11866 [==============================] - 33s 3ms/step - loss: 0.4332 - acc: 0.7981 - val_loss: 0.4249 - val_acc: 0.8001\n",
      "Epoch 7/10\n",
      "11866/11866 [==============================] - 33s 3ms/step - loss: 0.4205 - acc: 0.8066 - val_loss: 0.4141 - val_acc: 0.8133\n",
      "Epoch 8/10\n",
      "11866/11866 [==============================] - 36s 3ms/step - loss: 0.4104 - acc: 0.8142 - val_loss: 0.4106 - val_acc: 0.8136\n",
      "Epoch 9/10\n",
      "11866/11866 [==============================] - 37s 3ms/step - loss: 0.3960 - acc: 0.8213 - val_loss: 0.3833 - val_acc: 0.8281\n",
      "Epoch 10/10\n",
      "11866/11866 [==============================] - 33s 3ms/step - loss: 0.3844 - acc: 0.8250 - val_loss: 0.3704 - val_acc: 0.8247\n",
      "Accuracy: 82.47%\n"
     ]
    },
    {
     "data": {
      "image/png": "[encoded data removed]",
      "text/plain": [
       "<Figure size 432x288 with 1 Axes>"
      ]
     },
     "metadata": {
      "needs_background": "light"
     },
     "output_type": "display_data"
    },
    {
     "data": {
      "image/png": "[encoded data removed]",
      "text/plain": [
       "<Figure size 432x288 with 1 Axes>"
      ]
     },
     "metadata": {
      "needs_background": "light"
     },
     "output_type": "display_data"
    }
   ],
   "source": [
    "smiles = get_smiles_as_vectors()\n",
    "original_targets = fill_targets()\n",
    "target_index = 0\n",
    "\n",
    "target = [target[target_index] for target in original_targets]\n",
    "targets_vector = [[target[i] for i in range(\n",
    "    len(target)) if i != target_index] for target in original_targets]\n",
    "smiles = [smiles[i] + targets_vector[i] for i in range(len(smiles))]\n",
    "\n",
    "positive_samples = get_positive_samples(target_index, smiles, fill_targets())\n",
    "x_train, y = over_sampling_data_set(0, positive_samples, smiles, target)\n",
    "\n",
    "x_train, x_test, y_train, y_test = training_data(x_train, y)\n",
    "\n",
    "print(\"Train\")\n",
    "model = build_cnn_model()\n",
    "history= model.fit(x_train, y_train,\n",
    "                epochs=10,\n",
    "                validation_data=(x_test, y_test),\n",
    "                verbose=1)\n",
    "\n",
    "scores = model.evaluate(x_test, y_test, verbose=0)\n",
    "print(\"Accuracy: %.2f%%\" % (scores[1]*100))\n",
    "\n",
    "show_metrics(history)"
   ]
  },
  {
   "cell_type": "code",
   "execution_count": 100,
   "metadata": {},
   "outputs": [
    {
     "name": "stdout",
     "output_type": "stream",
     "text": [
      "2967/2967 [==============================] - 2s 837us/step\n",
      "\n",
      "True Positives: 1382\n",
      "True Negatives: 474\n",
      "False Positives: 1042\n",
      "False Negatives: 69\n",
      "\n",
      "Accuracy: 0.625548\n",
      "Precision: 0.570132\n",
      "Recall: 0.952447\n"
     ]
    }
   ],
   "source": [
    "predicted = get_target_values(model.predict(x_test, verbose=1))\n",
    "expected = get_target_values(y_test)\n",
    "\n",
    "t_p, t_n, f_p, f_n = evaluation_variables(predicted, expected)\n",
    "\n",
    "print(\"\")\n",
    "print(\"Accuracy: %f\" %((t_p + t_n)/(t_p + t_n + f_p + f_n)))\n",
    "print(\"Precision: %f\" %(t_p/(t_p + f_p)))\n",
    "print(\"Recall: %f\" %(t_p/(t_p + f_n)))"
   ]
  },
  {
   "cell_type": "markdown",
   "metadata": {},
   "source": [
    "Let's now feed the network with our original data:"
   ]
  },
  {
   "cell_type": "code",
   "execution_count": 101,
   "metadata": {},
   "outputs": [
    {
     "name": "stdout",
     "output_type": "stream",
     "text": [
      "8014/8014 [==============================] - 4s 510us/step\n",
      "\n",
      "True Positives: 298\n",
      "True Negatives: 2496\n",
      "False Positives: 5208\n",
      "False Negatives: 12\n",
      "\n",
      "Accuracy: 0.348640\n",
      "Precision: 0.054123\n",
      "Recall: 0.961290\n"
     ]
    }
   ],
   "source": [
    "max_len = len(max(smiles, key=len))\n",
    "x_train = sequence.pad_sequences(smiles, maxlen=max_len)\n",
    "x = [[[float(i)] for i in x] for x in x_train]\n",
    "x = np.array(x)\n",
    "x = x.reshape(x.shape[0], max_len, 1)\n",
    "y = np.array(y)\n",
    "\n",
    "predicted = get_target_values(model.predict(x, verbose=1))\n",
    "\n",
    "t_p, t_n, f_p, f_n = evaluation_variables(predicted, target)\n",
    "\n",
    "print(\"\")\n",
    "print(\"Accuracy: %f\" %((t_p + t_n)/(t_p + t_n + f_p + f_n)))\n",
    "print(\"Precision: %f\" %(t_p/(t_p + f_p)))\n",
    "print(\"Recall: %f\" %(t_p/(t_p + f_n)))"
   ]
  },
  {
   "cell_type": "markdown",
   "metadata": {},
   "source": [
    "Two other approaches we would have like to try and we didn't have the time, are to use **decision trees** and to use a **graph representation** of the molecule as input to the neural network, which could add value as a graph reflects better the structure of the molecules, so it's a better representation of our data. Also, given a better representation, an approach adding **embedding layers** would be worth to try. \n",
    "\n",
    "For the current model, **predicting the missing** data instead of filling the empty fields with 0s, probably would improve the accuracy, as also **generating synthetic cases for balancing the data-set**, instead of over sampling the data-set with our own positive vectors.\n",
    "\n",
    "To improve the quality of our data, \"non meaningful\" chains of tokens could be **remove: the must common and least common patterns**, for example.\n",
    "\n",
    "For determinating the correlation between targets, we could use a probabilistic model, as **bayesian networks**.\n",
    "\n",
    "To improve the current model we can also change the architecture of our current network to have **12 outputs, one per each target**. We are now feeding the network we the complementary target values, but in a multi-classification model, the network should also learn the correlation between the output values during the training. We could also use variations of the dropout value and the epochs number, and change the proportion positive/negative values in the training set.\n",
    "\n",
    "Finally, this is a summary of the obtained results for every target after feeding the trained model with our original 8014 molecules.\n",
    "\n",
    "|    T   | Accuracy| Precision  | Recall |True Positives|True Negatives|False Positives|False Negatives|F1 Score|\n",
    "|--------|---------|------------|--------|--------------|--------------|---------------|---------------|--------|\n",
    "|target1 |  0.705  |   0.100    |  0.835 |     259      |     5396     |     2308      |      51       |        |\n",
    "|target2 |  0.351  |   0.043    |  0.995 |     237      |     2576     |     5200      |      1        |        |\n",
    "|target3 |  0.421  |   0.143    |  0.987 |     775      |     2606     |     4623      |      10       |        |\n",
    "|target4 |  0.191  |   0.045    |  0.996 |     306      |     1226     |     6481      |      1        |        |\n",
    "|target5 |  0.854  |   0.358    |  0.585 |     467      |     6381     |      835      |      331      |        |\n",
    "|target6 |  0.583  |   0.094    |  0.969 |     345      |     4333     |     3325      |      11       |        |\n",
    "|target7 |  0.113  |   0.025    |  1.000 |     189      |      719     |     7106      |      0        |        |\n",
    "|target8 |  0.315  |   0.143    |  0.947 |     911      |     1620     |     5433      |      50       |        |\n",
    "|target9 |  0.279  |   0.044    |  0.996 |     266      |     1974     |     5773      |      1        |        |\n",
    "|target10|  0.171  |   0.053    |  0.994 |     377      |      997     |     6638      |      2        |        |\n",
    "|target11|  0.204  |   0.127    |  0.996 |     933      |      705     |     6373      |      3        |        |\n",
    "|target12|  0.300  |   0.070    |  0.990 |     427      |     1978     |     5605      |      4        |        |\n"
   ]
  }
 ],
 "metadata": {
  "kernelspec": {
   "display_name": "Python 3",
   "language": "python",
   "name": "python3"
  },
  "language_info": {
   "codemirror_mode": {
    "name": "ipython",
    "version": 3
   },
   "file_extension": ".py",
   "mimetype": "text/x-python",
   "name": "python",
   "nbconvert_exporter": "python",
   "pygments_lexer": "ipython3",
   "version": "3.6.5"
  }
 },
 "nbformat": 4,
 "nbformat_minor": 2
}
